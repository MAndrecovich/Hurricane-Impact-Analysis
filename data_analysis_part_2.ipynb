{
 "cells": [
  {
   "cell_type": "markdown",
   "metadata": {},
   "source": [
    "# Project 4: Wage loss from Hurricane Harvey"
   ]
  },
  {
   "cell_type": "markdown",
   "metadata": {},
   "source": [
    "# Table of Contents"
   ]
  },
  {
   "cell_type": "markdown",
   "metadata": {},
   "source": [
    "1. [Imports](#imports)<br>\n",
    "2. [Data Anlysis](#data)<br>\n",
    "3. [Cleaning and adding features](#cleaning)<br>\n",
    "4. [Further Data Analysis](#further)<br>\n",
    "5. [Conclusion](#concl)<br>\n"
   ]
  },
  {
   "cell_type": "markdown",
   "metadata": {},
   "source": [
    "# Imports <a name=\"imports\"></a>"
   ]
  },
  {
   "cell_type": "code",
   "execution_count": 3,
   "metadata": {},
   "outputs": [],
   "source": [
    "import pandas as pd\n",
    "import numpy as np\n",
    "import matplotlib.pyplot as plt\n",
    "import seaborn as sns"
   ]
  },
  {
   "cell_type": "code",
   "execution_count": 4,
   "metadata": {},
   "outputs": [],
   "source": [
    "#bring in combined df\n",
    "df = pd.read_csv('q2_q3_q4.csv')"
   ]
  },
  {
   "cell_type": "markdown",
   "metadata": {},
   "source": [
    "# Data Analysis <a name=\"data\"></a>"
   ]
  },
  {
   "cell_type": "code",
   "execution_count": 5,
   "metadata": {},
   "outputs": [
    {
     "data": {
      "text/html": [
       "<div>\n",
       "<style scoped>\n",
       "    .dataframe tbody tr th:only-of-type {\n",
       "        vertical-align: middle;\n",
       "    }\n",
       "\n",
       "    .dataframe tbody tr th {\n",
       "        vertical-align: top;\n",
       "    }\n",
       "\n",
       "    .dataframe thead th {\n",
       "        text-align: right;\n",
       "    }\n",
       "</style>\n",
       "<table border=\"1\" class=\"dataframe\">\n",
       "  <thead>\n",
       "    <tr style=\"text-align: right;\">\n",
       "      <th></th>\n",
       "      <th>Unnamed: 0</th>\n",
       "      <th>Area Name</th>\n",
       "      <th>Average Weekly Wages</th>\n",
       "      <th>Employment</th>\n",
       "      <th>FIPS</th>\n",
       "      <th>Industry</th>\n",
       "      <th>No Of Establishments</th>\n",
       "      <th>On-Year Weekly Wages Gain/Loss (Percent)</th>\n",
       "      <th>One-Year Employment Gain/Loss (Percent)</th>\n",
       "      <th>Quarter</th>\n",
       "    </tr>\n",
       "  </thead>\n",
       "  <tbody>\n",
       "    <tr>\n",
       "      <th>0</th>\n",
       "      <td>0</td>\n",
       "      <td>Anderson County</td>\n",
       "      <td>275.0</td>\n",
       "      <td>1666.0</td>\n",
       "      <td>48001.0</td>\n",
       "      <td>Leisure and Hospitality</td>\n",
       "      <td>109.0</td>\n",
       "      <td>1.1</td>\n",
       "      <td>3.1</td>\n",
       "      <td>Second Quarter</td>\n",
       "    </tr>\n",
       "    <tr>\n",
       "      <th>1</th>\n",
       "      <td>1</td>\n",
       "      <td>Andrews County</td>\n",
       "      <td>439.0</td>\n",
       "      <td>531.0</td>\n",
       "      <td>48003.0</td>\n",
       "      <td>Leisure and Hospitality</td>\n",
       "      <td>37.0</td>\n",
       "      <td>-0.9</td>\n",
       "      <td>17.5</td>\n",
       "      <td>Second Quarter</td>\n",
       "    </tr>\n",
       "    <tr>\n",
       "      <th>2</th>\n",
       "      <td>2</td>\n",
       "      <td>Angelina County</td>\n",
       "      <td>302.0</td>\n",
       "      <td>3549.0</td>\n",
       "      <td>48005.0</td>\n",
       "      <td>Leisure and Hospitality</td>\n",
       "      <td>157.0</td>\n",
       "      <td>-0.3</td>\n",
       "      <td>7.6</td>\n",
       "      <td>Second Quarter</td>\n",
       "    </tr>\n",
       "    <tr>\n",
       "      <th>3</th>\n",
       "      <td>3</td>\n",
       "      <td>Aransas County</td>\n",
       "      <td>335.0</td>\n",
       "      <td>1660.0</td>\n",
       "      <td>48007.0</td>\n",
       "      <td>Leisure and Hospitality</td>\n",
       "      <td>124.0</td>\n",
       "      <td>-0.9</td>\n",
       "      <td>6.8</td>\n",
       "      <td>Second Quarter</td>\n",
       "    </tr>\n",
       "    <tr>\n",
       "      <th>4</th>\n",
       "      <td>4</td>\n",
       "      <td>Archer County</td>\n",
       "      <td>222.0</td>\n",
       "      <td>60.0</td>\n",
       "      <td>48009.0</td>\n",
       "      <td>Leisure and Hospitality</td>\n",
       "      <td>8.0</td>\n",
       "      <td>-21.3</td>\n",
       "      <td>50.0</td>\n",
       "      <td>Second Quarter</td>\n",
       "    </tr>\n",
       "  </tbody>\n",
       "</table>\n",
       "</div>"
      ],
      "text/plain": [
       "   Unnamed: 0        Area Name  Average Weekly Wages  Employment     FIPS  \\\n",
       "0           0  Anderson County                 275.0      1666.0  48001.0   \n",
       "1           1   Andrews County                 439.0       531.0  48003.0   \n",
       "2           2  Angelina County                 302.0      3549.0  48005.0   \n",
       "3           3   Aransas County                 335.0      1660.0  48007.0   \n",
       "4           4    Archer County                 222.0        60.0  48009.0   \n",
       "\n",
       "                  Industry  No Of Establishments  \\\n",
       "0  Leisure and Hospitality                 109.0   \n",
       "1  Leisure and Hospitality                  37.0   \n",
       "2  Leisure and Hospitality                 157.0   \n",
       "3  Leisure and Hospitality                 124.0   \n",
       "4  Leisure and Hospitality                   8.0   \n",
       "\n",
       "   On-Year Weekly Wages Gain/Loss (Percent)  \\\n",
       "0                                       1.1   \n",
       "1                                      -0.9   \n",
       "2                                      -0.3   \n",
       "3                                      -0.9   \n",
       "4                                     -21.3   \n",
       "\n",
       "   One-Year Employment Gain/Loss (Percent)         Quarter  \n",
       "0                                      3.1  Second Quarter  \n",
       "1                                     17.5  Second Quarter  \n",
       "2                                      7.6  Second Quarter  \n",
       "3                                      6.8  Second Quarter  \n",
       "4                                     50.0  Second Quarter  "
      ]
     },
     "execution_count": 5,
     "metadata": {},
     "output_type": "execute_result"
    }
   ],
   "source": [
    "#check head\n",
    "df.head()"
   ]
  },
  {
   "cell_type": "markdown",
   "metadata": {},
   "source": [
    "Based on outside data, let's see if there is any relationship between hurricane strength and damages of hurricane."
   ]
  },
  {
   "cell_type": "code",
   "execution_count": null,
   "metadata": {},
   "outputs": [],
   "source": [
    "x=[5,5,4,4,3,3,2,1]\n",
    "y=[14.9,116.9,62,25.9,10.8,73.5,1.3,26]\n",
    "plt.scatter(x=[5,5,4,4,3,3,2,1], y=[14.9,116.9,62,25.9,10.8,73.5,1.3,26], s=300)\n",
    "plt.ylabel('Damages ($B)', fontsize=17)\n",
    "plt.xlabel('Hurricane Strength', fontsize=17)\n",
    "plt.title('Hurricane Damages by Strength', fontsize=23)\n",
    "plt.yticks(fontsize=16)\n",
    "plt.xticks(fontsize=16)\n",
    "\n",
    "N = 8\n",
    "data = [14.9,116.9,62,25.9,10.8,73.5,1.3,26]\n",
    "\n",
    "\n",
    "plt.show()"
   ]
  },
  {
   "cell_type": "markdown",
   "metadata": {},
   "source": [
    "There looks to be slight relationship, but not that strong. Thus it would not make sense to analyze multiple hurricanes by their category number."
   ]
  },
  {
   "cell_type": "markdown",
   "metadata": {},
   "source": [
    "Now we will add a column to categorize the counties that were impacted as a result of the hurricane based on https://www.fema.gov/disaster/4332"
   ]
  },
  {
   "cell_type": "code",
   "execution_count": 97,
   "metadata": {},
   "outputs": [],
   "source": [
    "direct_affect = ['Aransas County', 'Austin County', 'Bastrop County',\n",
    "                 'Bee County', 'Brazoria County', 'Caldwell County',\n",
    "                 'Calhoun County', 'Chambers County', 'Colorado County',\n",
    "                 'DeWitt County', 'Fayette County', 'Fort Bend County',\n",
    "                 'Galveston County', 'Goliad County', 'Gonzales County', \n",
    "                 'Grimes County', 'Hardin County', 'Harris County',\n",
    "                 'Jackson County', 'Jasper County', 'Jefferson County',\n",
    "                 'Karnes County', 'Kleberg County', 'Lavaca County',\n",
    "                 'Lee County', 'Liberty County', 'Matagorda County',\n",
    "                 'Montgomery County', 'Newton County', 'Nueces County',\n",
    "                 'Orange County', 'Polk County', 'Refugio County',\n",
    "                 'Sabine County', 'San Jacinto County', 'San Patricio County',\n",
    "                 'Tyler County', 'Victoria County', 'Walker County',\n",
    "                 'Waller County', 'Wharton County']"
   ]
  },
  {
   "cell_type": "code",
   "execution_count": 98,
   "metadata": {},
   "outputs": [
    {
     "data": {
      "text/plain": [
       "41"
      ]
     },
     "execution_count": 98,
     "metadata": {},
     "output_type": "execute_result"
    }
   ],
   "source": [
    "#check how big\n",
    "len(direct_affect)"
   ]
  },
  {
   "cell_type": "code",
   "execution_count": 99,
   "metadata": {},
   "outputs": [],
   "source": [
    "#code to get other counties\n",
    "list_of_counties = list(df['Area Name'].unique())\n",
    "\n",
    "not_affect = [i for i in list_of_counties if i not in direct_affect]"
   ]
  },
  {
   "cell_type": "markdown",
   "metadata": {},
   "source": [
    "Now let's add a new column to dataframe to distinguish the counties that were and were not affected."
   ]
  },
  {
   "cell_type": "code",
   "execution_count": 100,
   "metadata": {},
   "outputs": [],
   "source": [
    "#make dict to map to dataframe\n",
    "dict1 = {}\n",
    "for i in direct_affect:\n",
    "    dict1[i] = 1\n",
    "    "
   ]
  },
  {
   "cell_type": "code",
   "execution_count": 101,
   "metadata": {},
   "outputs": [],
   "source": [
    "for i in not_affect:\n",
    "    dict1[i] = 0"
   ]
  },
  {
   "cell_type": "code",
   "execution_count": 102,
   "metadata": {},
   "outputs": [],
   "source": [
    "#make new column\n",
    "df['Was it impacted?'] = df['Area Name'].map(dict1)"
   ]
  },
  {
   "cell_type": "code",
   "execution_count": 103,
   "metadata": {},
   "outputs": [
    {
     "data": {
      "text/plain": [
       "0    6809\n",
       "1    1345\n",
       "Name: Was it impacted?, dtype: int64"
      ]
     },
     "execution_count": 103,
     "metadata": {},
     "output_type": "execute_result"
    }
   ],
   "source": [
    "df['Was it impacted?'].value_counts()"
   ]
  },
  {
   "cell_type": "code",
   "execution_count": 104,
   "metadata": {},
   "outputs": [
    {
     "data": {
      "text/plain": [
       "0.1649497179298504"
      ]
     },
     "execution_count": 104,
     "metadata": {},
     "output_type": "execute_result"
    }
   ],
   "source": [
    "1345/(6809+1345)"
   ]
  },
  {
   "cell_type": "markdown",
   "metadata": {},
   "source": [
    "About 16% of the counties were impacted as result of the hurricane."
   ]
  },
  {
   "cell_type": "markdown",
   "metadata": {},
   "source": [
    "Since we only have average wages and employment, let's multiply them to determine the total weekly value for each industry."
   ]
  },
  {
   "cell_type": "code",
   "execution_count": 105,
   "metadata": {},
   "outputs": [],
   "source": [
    "df['Weekly Economic Value'] = df['Employment'] * df['Average Weekly Wages']"
   ]
  },
  {
   "cell_type": "code",
   "execution_count": 106,
   "metadata": {},
   "outputs": [
    {
     "data": {
      "text/html": [
       "<div>\n",
       "<style scoped>\n",
       "    .dataframe tbody tr th:only-of-type {\n",
       "        vertical-align: middle;\n",
       "    }\n",
       "\n",
       "    .dataframe tbody tr th {\n",
       "        vertical-align: top;\n",
       "    }\n",
       "\n",
       "    .dataframe thead th {\n",
       "        text-align: right;\n",
       "    }\n",
       "</style>\n",
       "<table border=\"1\" class=\"dataframe\">\n",
       "  <thead>\n",
       "    <tr style=\"text-align: right;\">\n",
       "      <th></th>\n",
       "      <th>Unnamed: 0</th>\n",
       "      <th>Area Name</th>\n",
       "      <th>Average Weekly Wages</th>\n",
       "      <th>Employment</th>\n",
       "      <th>FIPS</th>\n",
       "      <th>Industry</th>\n",
       "      <th>No Of Establishments</th>\n",
       "      <th>On-Year Weekly Wages Gain/Loss (Percent)</th>\n",
       "      <th>One-Year Employment Gain/Loss (Percent)</th>\n",
       "      <th>Quarter</th>\n",
       "      <th>Was it impacted?</th>\n",
       "      <th>Weekly Economic Value</th>\n",
       "    </tr>\n",
       "  </thead>\n",
       "  <tbody>\n",
       "    <tr>\n",
       "      <th>0</th>\n",
       "      <td>0</td>\n",
       "      <td>Anderson County</td>\n",
       "      <td>275.0</td>\n",
       "      <td>1666.0</td>\n",
       "      <td>48001.0</td>\n",
       "      <td>Leisure and Hospitality</td>\n",
       "      <td>109.0</td>\n",
       "      <td>1.1</td>\n",
       "      <td>3.1</td>\n",
       "      <td>Second Quarter</td>\n",
       "      <td>0</td>\n",
       "      <td>458150.0</td>\n",
       "    </tr>\n",
       "    <tr>\n",
       "      <th>1</th>\n",
       "      <td>1</td>\n",
       "      <td>Andrews County</td>\n",
       "      <td>439.0</td>\n",
       "      <td>531.0</td>\n",
       "      <td>48003.0</td>\n",
       "      <td>Leisure and Hospitality</td>\n",
       "      <td>37.0</td>\n",
       "      <td>-0.9</td>\n",
       "      <td>17.5</td>\n",
       "      <td>Second Quarter</td>\n",
       "      <td>0</td>\n",
       "      <td>233109.0</td>\n",
       "    </tr>\n",
       "    <tr>\n",
       "      <th>2</th>\n",
       "      <td>2</td>\n",
       "      <td>Angelina County</td>\n",
       "      <td>302.0</td>\n",
       "      <td>3549.0</td>\n",
       "      <td>48005.0</td>\n",
       "      <td>Leisure and Hospitality</td>\n",
       "      <td>157.0</td>\n",
       "      <td>-0.3</td>\n",
       "      <td>7.6</td>\n",
       "      <td>Second Quarter</td>\n",
       "      <td>0</td>\n",
       "      <td>1071798.0</td>\n",
       "    </tr>\n",
       "    <tr>\n",
       "      <th>3</th>\n",
       "      <td>3</td>\n",
       "      <td>Aransas County</td>\n",
       "      <td>335.0</td>\n",
       "      <td>1660.0</td>\n",
       "      <td>48007.0</td>\n",
       "      <td>Leisure and Hospitality</td>\n",
       "      <td>124.0</td>\n",
       "      <td>-0.9</td>\n",
       "      <td>6.8</td>\n",
       "      <td>Second Quarter</td>\n",
       "      <td>1</td>\n",
       "      <td>556100.0</td>\n",
       "    </tr>\n",
       "    <tr>\n",
       "      <th>4</th>\n",
       "      <td>4</td>\n",
       "      <td>Archer County</td>\n",
       "      <td>222.0</td>\n",
       "      <td>60.0</td>\n",
       "      <td>48009.0</td>\n",
       "      <td>Leisure and Hospitality</td>\n",
       "      <td>8.0</td>\n",
       "      <td>-21.3</td>\n",
       "      <td>50.0</td>\n",
       "      <td>Second Quarter</td>\n",
       "      <td>0</td>\n",
       "      <td>13320.0</td>\n",
       "    </tr>\n",
       "    <tr>\n",
       "      <th>5</th>\n",
       "      <td>5</td>\n",
       "      <td>Armstrong County</td>\n",
       "      <td>291.0</td>\n",
       "      <td>25.0</td>\n",
       "      <td>48011.0</td>\n",
       "      <td>Leisure and Hospitality</td>\n",
       "      <td>3.0</td>\n",
       "      <td>NaN</td>\n",
       "      <td>NaN</td>\n",
       "      <td>Second Quarter</td>\n",
       "      <td>0</td>\n",
       "      <td>7275.0</td>\n",
       "    </tr>\n",
       "    <tr>\n",
       "      <th>6</th>\n",
       "      <td>6</td>\n",
       "      <td>Atascosa County</td>\n",
       "      <td>290.0</td>\n",
       "      <td>1273.0</td>\n",
       "      <td>48013.0</td>\n",
       "      <td>Leisure and Hospitality</td>\n",
       "      <td>90.0</td>\n",
       "      <td>7.4</td>\n",
       "      <td>11.8</td>\n",
       "      <td>Second Quarter</td>\n",
       "      <td>0</td>\n",
       "      <td>369170.0</td>\n",
       "    </tr>\n",
       "    <tr>\n",
       "      <th>7</th>\n",
       "      <td>7</td>\n",
       "      <td>Austin County</td>\n",
       "      <td>331.0</td>\n",
       "      <td>873.0</td>\n",
       "      <td>48015.0</td>\n",
       "      <td>Leisure and Hospitality</td>\n",
       "      <td>73.0</td>\n",
       "      <td>0.9</td>\n",
       "      <td>0.9</td>\n",
       "      <td>Second Quarter</td>\n",
       "      <td>1</td>\n",
       "      <td>288963.0</td>\n",
       "    </tr>\n",
       "    <tr>\n",
       "      <th>8</th>\n",
       "      <td>8</td>\n",
       "      <td>Bailey County</td>\n",
       "      <td>265.0</td>\n",
       "      <td>239.0</td>\n",
       "      <td>48017.0</td>\n",
       "      <td>Leisure and Hospitality</td>\n",
       "      <td>16.0</td>\n",
       "      <td>3.1</td>\n",
       "      <td>8.6</td>\n",
       "      <td>Second Quarter</td>\n",
       "      <td>0</td>\n",
       "      <td>63335.0</td>\n",
       "    </tr>\n",
       "    <tr>\n",
       "      <th>9</th>\n",
       "      <td>9</td>\n",
       "      <td>Bandera County</td>\n",
       "      <td>347.0</td>\n",
       "      <td>674.0</td>\n",
       "      <td>48019.0</td>\n",
       "      <td>Leisure and Hospitality</td>\n",
       "      <td>57.0</td>\n",
       "      <td>2.7</td>\n",
       "      <td>15.2</td>\n",
       "      <td>Second Quarter</td>\n",
       "      <td>0</td>\n",
       "      <td>233878.0</td>\n",
       "    </tr>\n",
       "    <tr>\n",
       "      <th>10</th>\n",
       "      <td>10</td>\n",
       "      <td>Bastrop County</td>\n",
       "      <td>395.0</td>\n",
       "      <td>2911.0</td>\n",
       "      <td>48021.0</td>\n",
       "      <td>Leisure and Hospitality</td>\n",
       "      <td>143.0</td>\n",
       "      <td>7.0</td>\n",
       "      <td>2.5</td>\n",
       "      <td>Second Quarter</td>\n",
       "      <td>1</td>\n",
       "      <td>1149845.0</td>\n",
       "    </tr>\n",
       "    <tr>\n",
       "      <th>11</th>\n",
       "      <td>11</td>\n",
       "      <td>Baylor County</td>\n",
       "      <td>244.0</td>\n",
       "      <td>93.0</td>\n",
       "      <td>48023.0</td>\n",
       "      <td>Leisure and Hospitality</td>\n",
       "      <td>12.0</td>\n",
       "      <td>0.4</td>\n",
       "      <td>5.7</td>\n",
       "      <td>Second Quarter</td>\n",
       "      <td>0</td>\n",
       "      <td>22692.0</td>\n",
       "    </tr>\n",
       "    <tr>\n",
       "      <th>12</th>\n",
       "      <td>12</td>\n",
       "      <td>Bee County</td>\n",
       "      <td>303.0</td>\n",
       "      <td>855.0</td>\n",
       "      <td>48025.0</td>\n",
       "      <td>Leisure and Hospitality</td>\n",
       "      <td>64.0</td>\n",
       "      <td>4.5</td>\n",
       "      <td>-3.8</td>\n",
       "      <td>Second Quarter</td>\n",
       "      <td>1</td>\n",
       "      <td>259065.0</td>\n",
       "    </tr>\n",
       "    <tr>\n",
       "      <th>13</th>\n",
       "      <td>13</td>\n",
       "      <td>Bell County</td>\n",
       "      <td>307.0</td>\n",
       "      <td>13042.0</td>\n",
       "      <td>48027.0</td>\n",
       "      <td>Leisure and Hospitality</td>\n",
       "      <td>663.0</td>\n",
       "      <td>4.1</td>\n",
       "      <td>4.0</td>\n",
       "      <td>Second Quarter</td>\n",
       "      <td>0</td>\n",
       "      <td>4003894.0</td>\n",
       "    </tr>\n",
       "    <tr>\n",
       "      <th>14</th>\n",
       "      <td>14</td>\n",
       "      <td>Bexar County</td>\n",
       "      <td>415.0</td>\n",
       "      <td>117483.0</td>\n",
       "      <td>48029.0</td>\n",
       "      <td>Leisure and Hospitality</td>\n",
       "      <td>4262.0</td>\n",
       "      <td>4.3</td>\n",
       "      <td>2.3</td>\n",
       "      <td>Second Quarter</td>\n",
       "      <td>0</td>\n",
       "      <td>48755445.0</td>\n",
       "    </tr>\n",
       "    <tr>\n",
       "      <th>15</th>\n",
       "      <td>15</td>\n",
       "      <td>Blanco County</td>\n",
       "      <td>355.0</td>\n",
       "      <td>390.0</td>\n",
       "      <td>48031.0</td>\n",
       "      <td>Leisure and Hospitality</td>\n",
       "      <td>41.0</td>\n",
       "      <td>8.6</td>\n",
       "      <td>20.0</td>\n",
       "      <td>Second Quarter</td>\n",
       "      <td>0</td>\n",
       "      <td>138450.0</td>\n",
       "    </tr>\n",
       "    <tr>\n",
       "      <th>16</th>\n",
       "      <td>16</td>\n",
       "      <td>Bosque County</td>\n",
       "      <td>269.0</td>\n",
       "      <td>298.0</td>\n",
       "      <td>48035.0</td>\n",
       "      <td>Leisure and Hospitality</td>\n",
       "      <td>35.0</td>\n",
       "      <td>5.9</td>\n",
       "      <td>31.3</td>\n",
       "      <td>Second Quarter</td>\n",
       "      <td>0</td>\n",
       "      <td>80162.0</td>\n",
       "    </tr>\n",
       "    <tr>\n",
       "      <th>17</th>\n",
       "      <td>17</td>\n",
       "      <td>Bowie County</td>\n",
       "      <td>304.0</td>\n",
       "      <td>5288.0</td>\n",
       "      <td>48037.0</td>\n",
       "      <td>Leisure and Hospitality</td>\n",
       "      <td>215.0</td>\n",
       "      <td>4.8</td>\n",
       "      <td>1.0</td>\n",
       "      <td>Second Quarter</td>\n",
       "      <td>0</td>\n",
       "      <td>1607552.0</td>\n",
       "    </tr>\n",
       "    <tr>\n",
       "      <th>18</th>\n",
       "      <td>18</td>\n",
       "      <td>Brazoria County</td>\n",
       "      <td>338.0</td>\n",
       "      <td>12626.0</td>\n",
       "      <td>48039.0</td>\n",
       "      <td>Leisure and Hospitality</td>\n",
       "      <td>595.0</td>\n",
       "      <td>2.4</td>\n",
       "      <td>4.2</td>\n",
       "      <td>Second Quarter</td>\n",
       "      <td>1</td>\n",
       "      <td>4267588.0</td>\n",
       "    </tr>\n",
       "    <tr>\n",
       "      <th>19</th>\n",
       "      <td>19</td>\n",
       "      <td>Brazos County</td>\n",
       "      <td>357.0</td>\n",
       "      <td>12945.0</td>\n",
       "      <td>48041.0</td>\n",
       "      <td>Leisure and Hospitality</td>\n",
       "      <td>507.0</td>\n",
       "      <td>11.2</td>\n",
       "      <td>-5.5</td>\n",
       "      <td>Second Quarter</td>\n",
       "      <td>0</td>\n",
       "      <td>4621365.0</td>\n",
       "    </tr>\n",
       "  </tbody>\n",
       "</table>\n",
       "</div>"
      ],
      "text/plain": [
       "    Unnamed: 0         Area Name  Average Weekly Wages  Employment     FIPS  \\\n",
       "0            0   Anderson County                 275.0      1666.0  48001.0   \n",
       "1            1    Andrews County                 439.0       531.0  48003.0   \n",
       "2            2   Angelina County                 302.0      3549.0  48005.0   \n",
       "3            3    Aransas County                 335.0      1660.0  48007.0   \n",
       "4            4     Archer County                 222.0        60.0  48009.0   \n",
       "5            5  Armstrong County                 291.0        25.0  48011.0   \n",
       "6            6   Atascosa County                 290.0      1273.0  48013.0   \n",
       "7            7     Austin County                 331.0       873.0  48015.0   \n",
       "8            8     Bailey County                 265.0       239.0  48017.0   \n",
       "9            9    Bandera County                 347.0       674.0  48019.0   \n",
       "10          10    Bastrop County                 395.0      2911.0  48021.0   \n",
       "11          11     Baylor County                 244.0        93.0  48023.0   \n",
       "12          12        Bee County                 303.0       855.0  48025.0   \n",
       "13          13       Bell County                 307.0     13042.0  48027.0   \n",
       "14          14      Bexar County                 415.0    117483.0  48029.0   \n",
       "15          15     Blanco County                 355.0       390.0  48031.0   \n",
       "16          16     Bosque County                 269.0       298.0  48035.0   \n",
       "17          17      Bowie County                 304.0      5288.0  48037.0   \n",
       "18          18   Brazoria County                 338.0     12626.0  48039.0   \n",
       "19          19     Brazos County                 357.0     12945.0  48041.0   \n",
       "\n",
       "                   Industry  No Of Establishments  \\\n",
       "0   Leisure and Hospitality                 109.0   \n",
       "1   Leisure and Hospitality                  37.0   \n",
       "2   Leisure and Hospitality                 157.0   \n",
       "3   Leisure and Hospitality                 124.0   \n",
       "4   Leisure and Hospitality                   8.0   \n",
       "5   Leisure and Hospitality                   3.0   \n",
       "6   Leisure and Hospitality                  90.0   \n",
       "7   Leisure and Hospitality                  73.0   \n",
       "8   Leisure and Hospitality                  16.0   \n",
       "9   Leisure and Hospitality                  57.0   \n",
       "10  Leisure and Hospitality                 143.0   \n",
       "11  Leisure and Hospitality                  12.0   \n",
       "12  Leisure and Hospitality                  64.0   \n",
       "13  Leisure and Hospitality                 663.0   \n",
       "14  Leisure and Hospitality                4262.0   \n",
       "15  Leisure and Hospitality                  41.0   \n",
       "16  Leisure and Hospitality                  35.0   \n",
       "17  Leisure and Hospitality                 215.0   \n",
       "18  Leisure and Hospitality                 595.0   \n",
       "19  Leisure and Hospitality                 507.0   \n",
       "\n",
       "    On-Year Weekly Wages Gain/Loss (Percent)  \\\n",
       "0                                        1.1   \n",
       "1                                       -0.9   \n",
       "2                                       -0.3   \n",
       "3                                       -0.9   \n",
       "4                                      -21.3   \n",
       "5                                        NaN   \n",
       "6                                        7.4   \n",
       "7                                        0.9   \n",
       "8                                        3.1   \n",
       "9                                        2.7   \n",
       "10                                       7.0   \n",
       "11                                       0.4   \n",
       "12                                       4.5   \n",
       "13                                       4.1   \n",
       "14                                       4.3   \n",
       "15                                       8.6   \n",
       "16                                       5.9   \n",
       "17                                       4.8   \n",
       "18                                       2.4   \n",
       "19                                      11.2   \n",
       "\n",
       "    One-Year Employment Gain/Loss (Percent)         Quarter  Was it impacted?  \\\n",
       "0                                       3.1  Second Quarter                 0   \n",
       "1                                      17.5  Second Quarter                 0   \n",
       "2                                       7.6  Second Quarter                 0   \n",
       "3                                       6.8  Second Quarter                 1   \n",
       "4                                      50.0  Second Quarter                 0   \n",
       "5                                       NaN  Second Quarter                 0   \n",
       "6                                      11.8  Second Quarter                 0   \n",
       "7                                       0.9  Second Quarter                 1   \n",
       "8                                       8.6  Second Quarter                 0   \n",
       "9                                      15.2  Second Quarter                 0   \n",
       "10                                      2.5  Second Quarter                 1   \n",
       "11                                      5.7  Second Quarter                 0   \n",
       "12                                     -3.8  Second Quarter                 1   \n",
       "13                                      4.0  Second Quarter                 0   \n",
       "14                                      2.3  Second Quarter                 0   \n",
       "15                                     20.0  Second Quarter                 0   \n",
       "16                                     31.3  Second Quarter                 0   \n",
       "17                                      1.0  Second Quarter                 0   \n",
       "18                                      4.2  Second Quarter                 1   \n",
       "19                                     -5.5  Second Quarter                 0   \n",
       "\n",
       "    Weekly Economic Value  \n",
       "0                458150.0  \n",
       "1                233109.0  \n",
       "2               1071798.0  \n",
       "3                556100.0  \n",
       "4                 13320.0  \n",
       "5                  7275.0  \n",
       "6                369170.0  \n",
       "7                288963.0  \n",
       "8                 63335.0  \n",
       "9                233878.0  \n",
       "10              1149845.0  \n",
       "11                22692.0  \n",
       "12               259065.0  \n",
       "13              4003894.0  \n",
       "14             48755445.0  \n",
       "15               138450.0  \n",
       "16                80162.0  \n",
       "17              1607552.0  \n",
       "18              4267588.0  \n",
       "19              4621365.0  "
      ]
     },
     "execution_count": 106,
     "metadata": {},
     "output_type": "execute_result"
    }
   ],
   "source": [
    "#test output\n",
    "df.head(20)"
   ]
  },
  {
   "cell_type": "markdown",
   "metadata": {},
   "source": [
    "# Cleaning and Adding Features <a name=\"cleaning\"></a>"
   ]
  },
  {
   "cell_type": "markdown",
   "metadata": {},
   "source": [
    "We have an extra column, we will remove."
   ]
  },
  {
   "cell_type": "code",
   "execution_count": 107,
   "metadata": {},
   "outputs": [],
   "source": [
    "df.drop(columns='Unnamed: 0', inplace=True)"
   ]
  },
  {
   "cell_type": "code",
   "execution_count": 108,
   "metadata": {},
   "outputs": [
    {
     "data": {
      "text/html": [
       "<div>\n",
       "<style scoped>\n",
       "    .dataframe tbody tr th:only-of-type {\n",
       "        vertical-align: middle;\n",
       "    }\n",
       "\n",
       "    .dataframe tbody tr th {\n",
       "        vertical-align: top;\n",
       "    }\n",
       "\n",
       "    .dataframe thead th {\n",
       "        text-align: right;\n",
       "    }\n",
       "</style>\n",
       "<table border=\"1\" class=\"dataframe\">\n",
       "  <thead>\n",
       "    <tr style=\"text-align: right;\">\n",
       "      <th></th>\n",
       "      <th>Area Name</th>\n",
       "      <th>Average Weekly Wages</th>\n",
       "      <th>Employment</th>\n",
       "      <th>FIPS</th>\n",
       "      <th>Industry</th>\n",
       "      <th>No Of Establishments</th>\n",
       "      <th>On-Year Weekly Wages Gain/Loss (Percent)</th>\n",
       "      <th>One-Year Employment Gain/Loss (Percent)</th>\n",
       "      <th>Quarter</th>\n",
       "      <th>Was it impacted?</th>\n",
       "      <th>Weekly Economic Value</th>\n",
       "    </tr>\n",
       "  </thead>\n",
       "  <tbody>\n",
       "    <tr>\n",
       "      <th>0</th>\n",
       "      <td>Anderson County</td>\n",
       "      <td>275.0</td>\n",
       "      <td>1666.0</td>\n",
       "      <td>48001.0</td>\n",
       "      <td>Leisure and Hospitality</td>\n",
       "      <td>109.0</td>\n",
       "      <td>1.1</td>\n",
       "      <td>3.1</td>\n",
       "      <td>Second Quarter</td>\n",
       "      <td>0</td>\n",
       "      <td>458150.0</td>\n",
       "    </tr>\n",
       "    <tr>\n",
       "      <th>1</th>\n",
       "      <td>Andrews County</td>\n",
       "      <td>439.0</td>\n",
       "      <td>531.0</td>\n",
       "      <td>48003.0</td>\n",
       "      <td>Leisure and Hospitality</td>\n",
       "      <td>37.0</td>\n",
       "      <td>-0.9</td>\n",
       "      <td>17.5</td>\n",
       "      <td>Second Quarter</td>\n",
       "      <td>0</td>\n",
       "      <td>233109.0</td>\n",
       "    </tr>\n",
       "    <tr>\n",
       "      <th>2</th>\n",
       "      <td>Angelina County</td>\n",
       "      <td>302.0</td>\n",
       "      <td>3549.0</td>\n",
       "      <td>48005.0</td>\n",
       "      <td>Leisure and Hospitality</td>\n",
       "      <td>157.0</td>\n",
       "      <td>-0.3</td>\n",
       "      <td>7.6</td>\n",
       "      <td>Second Quarter</td>\n",
       "      <td>0</td>\n",
       "      <td>1071798.0</td>\n",
       "    </tr>\n",
       "    <tr>\n",
       "      <th>3</th>\n",
       "      <td>Aransas County</td>\n",
       "      <td>335.0</td>\n",
       "      <td>1660.0</td>\n",
       "      <td>48007.0</td>\n",
       "      <td>Leisure and Hospitality</td>\n",
       "      <td>124.0</td>\n",
       "      <td>-0.9</td>\n",
       "      <td>6.8</td>\n",
       "      <td>Second Quarter</td>\n",
       "      <td>1</td>\n",
       "      <td>556100.0</td>\n",
       "    </tr>\n",
       "    <tr>\n",
       "      <th>4</th>\n",
       "      <td>Archer County</td>\n",
       "      <td>222.0</td>\n",
       "      <td>60.0</td>\n",
       "      <td>48009.0</td>\n",
       "      <td>Leisure and Hospitality</td>\n",
       "      <td>8.0</td>\n",
       "      <td>-21.3</td>\n",
       "      <td>50.0</td>\n",
       "      <td>Second Quarter</td>\n",
       "      <td>0</td>\n",
       "      <td>13320.0</td>\n",
       "    </tr>\n",
       "  </tbody>\n",
       "</table>\n",
       "</div>"
      ],
      "text/plain": [
       "         Area Name  Average Weekly Wages  Employment     FIPS  \\\n",
       "0  Anderson County                 275.0      1666.0  48001.0   \n",
       "1   Andrews County                 439.0       531.0  48003.0   \n",
       "2  Angelina County                 302.0      3549.0  48005.0   \n",
       "3   Aransas County                 335.0      1660.0  48007.0   \n",
       "4    Archer County                 222.0        60.0  48009.0   \n",
       "\n",
       "                  Industry  No Of Establishments  \\\n",
       "0  Leisure and Hospitality                 109.0   \n",
       "1  Leisure and Hospitality                  37.0   \n",
       "2  Leisure and Hospitality                 157.0   \n",
       "3  Leisure and Hospitality                 124.0   \n",
       "4  Leisure and Hospitality                   8.0   \n",
       "\n",
       "   On-Year Weekly Wages Gain/Loss (Percent)  \\\n",
       "0                                       1.1   \n",
       "1                                      -0.9   \n",
       "2                                      -0.3   \n",
       "3                                      -0.9   \n",
       "4                                     -21.3   \n",
       "\n",
       "   One-Year Employment Gain/Loss (Percent)         Quarter  Was it impacted?  \\\n",
       "0                                      3.1  Second Quarter                 0   \n",
       "1                                     17.5  Second Quarter                 0   \n",
       "2                                      7.6  Second Quarter                 0   \n",
       "3                                      6.8  Second Quarter                 1   \n",
       "4                                     50.0  Second Quarter                 0   \n",
       "\n",
       "   Weekly Economic Value  \n",
       "0               458150.0  \n",
       "1               233109.0  \n",
       "2              1071798.0  \n",
       "3               556100.0  \n",
       "4                13320.0  "
      ]
     },
     "execution_count": 108,
     "metadata": {},
     "output_type": "execute_result"
    }
   ],
   "source": [
    "df.head()"
   ]
  },
  {
   "cell_type": "markdown",
   "metadata": {},
   "source": [
    "# Further Data Analysis <a name=\"further\"></a>"
   ]
  },
  {
   "cell_type": "markdown",
   "metadata": {},
   "source": [
    "Let's take a look at which industries were most impacted, as defined by most amount of weekly economic value lost."
   ]
  },
  {
   "cell_type": "code",
   "execution_count": 109,
   "metadata": {},
   "outputs": [],
   "source": [
    "table = pd.pivot_table(df, values='Employment', index=['Industry'], columns=['Quarter'], aggfunc=np.sum)"
   ]
  },
  {
   "cell_type": "code",
   "execution_count": 110,
   "metadata": {},
   "outputs": [],
   "source": [
    "table['Difference'] = table['Third Quarter'] - table['Second Quarter']"
   ]
  },
  {
   "cell_type": "code",
   "execution_count": 111,
   "metadata": {},
   "outputs": [
    {
     "data": {
      "text/html": [
       "<div>\n",
       "<style scoped>\n",
       "    .dataframe tbody tr th:only-of-type {\n",
       "        vertical-align: middle;\n",
       "    }\n",
       "\n",
       "    .dataframe tbody tr th {\n",
       "        vertical-align: top;\n",
       "    }\n",
       "\n",
       "    .dataframe thead th {\n",
       "        text-align: right;\n",
       "    }\n",
       "</style>\n",
       "<table border=\"1\" class=\"dataframe\">\n",
       "  <thead>\n",
       "    <tr style=\"text-align: right;\">\n",
       "      <th>Quarter</th>\n",
       "      <th>Fourth Quarter</th>\n",
       "      <th>Second Quarter</th>\n",
       "      <th>Third Quarter</th>\n",
       "      <th>Difference</th>\n",
       "    </tr>\n",
       "    <tr>\n",
       "      <th>Industry</th>\n",
       "      <th></th>\n",
       "      <th></th>\n",
       "      <th></th>\n",
       "      <th></th>\n",
       "    </tr>\n",
       "  </thead>\n",
       "  <tbody>\n",
       "    <tr>\n",
       "      <th>Leisure and Hospitality</th>\n",
       "      <td>1307430.0</td>\n",
       "      <td>1350777.0</td>\n",
       "      <td>1311788.0</td>\n",
       "      <td>-38989.0</td>\n",
       "    </tr>\n",
       "    <tr>\n",
       "      <th>Other Services</th>\n",
       "      <td>322341.0</td>\n",
       "      <td>328494.0</td>\n",
       "      <td>322443.0</td>\n",
       "      <td>-6051.0</td>\n",
       "    </tr>\n",
       "    <tr>\n",
       "      <th>Construction</th>\n",
       "      <td>699378.0</td>\n",
       "      <td>698628.0</td>\n",
       "      <td>693766.0</td>\n",
       "      <td>-4862.0</td>\n",
       "    </tr>\n",
       "    <tr>\n",
       "      <th>Information</th>\n",
       "      <td>192351.0</td>\n",
       "      <td>193639.0</td>\n",
       "      <td>189323.0</td>\n",
       "      <td>-4316.0</td>\n",
       "    </tr>\n",
       "    <tr>\n",
       "      <th>Manufacturing</th>\n",
       "      <td>845373.0</td>\n",
       "      <td>838260.0</td>\n",
       "      <td>838989.0</td>\n",
       "      <td>729.0</td>\n",
       "    </tr>\n",
       "    <tr>\n",
       "      <th>Trade,Transportation, and Utilities</th>\n",
       "      <td>2451244.0</td>\n",
       "      <td>2351375.0</td>\n",
       "      <td>2352115.0</td>\n",
       "      <td>740.0</td>\n",
       "    </tr>\n",
       "    <tr>\n",
       "      <th>Education and Health Services</th>\n",
       "      <td>1612553.0</td>\n",
       "      <td>1597333.0</td>\n",
       "      <td>1598115.0</td>\n",
       "      <td>782.0</td>\n",
       "    </tr>\n",
       "    <tr>\n",
       "      <th>Unclassified</th>\n",
       "      <td>12403.0</td>\n",
       "      <td>9535.0</td>\n",
       "      <td>10848.0</td>\n",
       "      <td>1313.0</td>\n",
       "    </tr>\n",
       "    <tr>\n",
       "      <th>Financial Activities</th>\n",
       "      <td>723964.0</td>\n",
       "      <td>716574.0</td>\n",
       "      <td>719789.0</td>\n",
       "      <td>3215.0</td>\n",
       "    </tr>\n",
       "    <tr>\n",
       "      <th>Natural Resources and Mining</th>\n",
       "      <td>281846.0</td>\n",
       "      <td>269984.0</td>\n",
       "      <td>273395.0</td>\n",
       "      <td>3411.0</td>\n",
       "    </tr>\n",
       "    <tr>\n",
       "      <th>Professional and Business Services</th>\n",
       "      <td>1582490.0</td>\n",
       "      <td>1559585.0</td>\n",
       "      <td>1576707.0</td>\n",
       "      <td>17122.0</td>\n",
       "    </tr>\n",
       "  </tbody>\n",
       "</table>\n",
       "</div>"
      ],
      "text/plain": [
       "Quarter                              Fourth Quarter  Second Quarter  \\\n",
       "Industry                                                              \n",
       "Leisure and Hospitality                   1307430.0       1350777.0   \n",
       "Other Services                             322341.0        328494.0   \n",
       "Construction                               699378.0        698628.0   \n",
       "Information                                192351.0        193639.0   \n",
       "Manufacturing                              845373.0        838260.0   \n",
       "Trade,Transportation, and Utilities       2451244.0       2351375.0   \n",
       "Education and Health Services             1612553.0       1597333.0   \n",
       "Unclassified                                12403.0          9535.0   \n",
       "Financial Activities                       723964.0        716574.0   \n",
       "Natural Resources and Mining               281846.0        269984.0   \n",
       "Professional and Business Services        1582490.0       1559585.0   \n",
       "\n",
       "Quarter                              Third Quarter  Difference  \n",
       "Industry                                                        \n",
       "Leisure and Hospitality                  1311788.0    -38989.0  \n",
       "Other Services                            322443.0     -6051.0  \n",
       "Construction                              693766.0     -4862.0  \n",
       "Information                               189323.0     -4316.0  \n",
       "Manufacturing                             838989.0       729.0  \n",
       "Trade,Transportation, and Utilities      2352115.0       740.0  \n",
       "Education and Health Services            1598115.0       782.0  \n",
       "Unclassified                               10848.0      1313.0  \n",
       "Financial Activities                      719789.0      3215.0  \n",
       "Natural Resources and Mining              273395.0      3411.0  \n",
       "Professional and Business Services       1576707.0     17122.0  "
      ]
     },
     "execution_count": 111,
     "metadata": {},
     "output_type": "execute_result"
    }
   ],
   "source": [
    "table.sort_values(by = 'Difference')"
   ]
  },
  {
   "cell_type": "markdown",
   "metadata": {},
   "source": [
    "Leisure and hospitality was hurt the most, losing almost 40K workers. This makes sense since in a time of crisis, people likely won't have time or money to spend on recreational activities, thus resulting in less employees. <br>\n",
    "\n",
    "It is interesting that some industries saw *increases* in employment after the hurricane, particularly Professional and Business Services.\n",
    "\n",
    "So that summarizes the industries at an employment level, but what about wages?"
   ]
  },
  {
   "cell_type": "code",
   "execution_count": 112,
   "metadata": {},
   "outputs": [],
   "source": [
    "table = pd.pivot_table(df, values='Weekly Economic Value', index=['Industry'], columns=['Quarter'], aggfunc=np.sum)"
   ]
  },
  {
   "cell_type": "code",
   "execution_count": 113,
   "metadata": {},
   "outputs": [],
   "source": [
    "diff_df = pd.DataFrame(table)"
   ]
  },
  {
   "cell_type": "code",
   "execution_count": 114,
   "metadata": {},
   "outputs": [],
   "source": [
    "diff_df['Difference'] = diff_df['Third Quarter'] - diff_df['Second Quarter']"
   ]
  },
  {
   "cell_type": "code",
   "execution_count": 115,
   "metadata": {},
   "outputs": [],
   "source": [
    "diff_df['Diff Percentage'] = diff_df['Difference'] / diff_df['Second Quarter']"
   ]
  },
  {
   "cell_type": "code",
   "execution_count": 116,
   "metadata": {},
   "outputs": [],
   "source": [
    "df_sorted_by_diff = diff_df.sort_values(by='Difference', ascending=True)"
   ]
  },
  {
   "cell_type": "code",
   "execution_count": 141,
   "metadata": {},
   "outputs": [
    {
     "data": {
      "text/html": [
       "<div>\n",
       "<style scoped>\n",
       "    .dataframe tbody tr th:only-of-type {\n",
       "        vertical-align: middle;\n",
       "    }\n",
       "\n",
       "    .dataframe tbody tr th {\n",
       "        vertical-align: top;\n",
       "    }\n",
       "\n",
       "    .dataframe thead th {\n",
       "        text-align: right;\n",
       "    }\n",
       "</style>\n",
       "<table border=\"1\" class=\"dataframe\">\n",
       "  <thead>\n",
       "    <tr style=\"text-align: right;\">\n",
       "      <th>Quarter</th>\n",
       "      <th>Fourth Quarter</th>\n",
       "      <th>Second Quarter</th>\n",
       "      <th>Third Quarter</th>\n",
       "      <th>Difference</th>\n",
       "      <th>Diff Percentage</th>\n",
       "    </tr>\n",
       "    <tr>\n",
       "      <th>Industry</th>\n",
       "      <th></th>\n",
       "      <th></th>\n",
       "      <th></th>\n",
       "      <th></th>\n",
       "      <th></th>\n",
       "    </tr>\n",
       "  </thead>\n",
       "  <tbody>\n",
       "    <tr>\n",
       "      <th>Education and Health Services</th>\n",
       "      <td>1.547016e+09</td>\n",
       "      <td>1.432776e+09</td>\n",
       "      <td>1.414001e+09</td>\n",
       "      <td>-18775265.0</td>\n",
       "      <td>-0.013104</td>\n",
       "    </tr>\n",
       "    <tr>\n",
       "      <th>Construction</th>\n",
       "      <td>9.217212e+08</td>\n",
       "      <td>8.175273e+08</td>\n",
       "      <td>8.054290e+08</td>\n",
       "      <td>-12098305.0</td>\n",
       "      <td>-0.014799</td>\n",
       "    </tr>\n",
       "    <tr>\n",
       "      <th>Leisure and Hospitality</th>\n",
       "      <td>5.520103e+08</td>\n",
       "      <td>5.407083e+08</td>\n",
       "      <td>5.296090e+08</td>\n",
       "      <td>-11099310.0</td>\n",
       "      <td>-0.020527</td>\n",
       "    </tr>\n",
       "    <tr>\n",
       "      <th>Manufacturing</th>\n",
       "      <td>1.243734e+09</td>\n",
       "      <td>1.161630e+09</td>\n",
       "      <td>1.151652e+09</td>\n",
       "      <td>-9977551.0</td>\n",
       "      <td>-0.008589</td>\n",
       "    </tr>\n",
       "    <tr>\n",
       "      <th>Financial Activities</th>\n",
       "      <td>1.117233e+09</td>\n",
       "      <td>9.999778e+08</td>\n",
       "      <td>9.919718e+08</td>\n",
       "      <td>-8005995.0</td>\n",
       "      <td>-0.008006</td>\n",
       "    </tr>\n",
       "    <tr>\n",
       "      <th>Trade,Transportation, and Utilities</th>\n",
       "      <td>2.346717e+09</td>\n",
       "      <td>2.142298e+09</td>\n",
       "      <td>2.137561e+09</td>\n",
       "      <td>-4736870.0</td>\n",
       "      <td>-0.002211</td>\n",
       "    </tr>\n",
       "    <tr>\n",
       "      <th>Other Services</th>\n",
       "      <td>2.442335e+08</td>\n",
       "      <td>2.300305e+08</td>\n",
       "      <td>2.273139e+08</td>\n",
       "      <td>-2716590.0</td>\n",
       "      <td>-0.011810</td>\n",
       "    </tr>\n",
       "    <tr>\n",
       "      <th>Information</th>\n",
       "      <td>3.004403e+08</td>\n",
       "      <td>2.890702e+08</td>\n",
       "      <td>2.890399e+08</td>\n",
       "      <td>-30302.0</td>\n",
       "      <td>-0.000105</td>\n",
       "    </tr>\n",
       "    <tr>\n",
       "      <th>Unclassified</th>\n",
       "      <td>9.256046e+06</td>\n",
       "      <td>6.352795e+06</td>\n",
       "      <td>8.364953e+06</td>\n",
       "      <td>2012158.0</td>\n",
       "      <td>0.316736</td>\n",
       "    </tr>\n",
       "    <tr>\n",
       "      <th>Natural Resources and Mining</th>\n",
       "      <td>5.563240e+08</td>\n",
       "      <td>5.076980e+08</td>\n",
       "      <td>5.123737e+08</td>\n",
       "      <td>4675787.0</td>\n",
       "      <td>0.009210</td>\n",
       "    </tr>\n",
       "    <tr>\n",
       "      <th>Professional and Business Services</th>\n",
       "      <td>2.326614e+09</td>\n",
       "      <td>2.016778e+09</td>\n",
       "      <td>2.051696e+09</td>\n",
       "      <td>34918751.0</td>\n",
       "      <td>0.017314</td>\n",
       "    </tr>\n",
       "  </tbody>\n",
       "</table>\n",
       "</div>"
      ],
      "text/plain": [
       "Quarter                              Fourth Quarter  Second Quarter  \\\n",
       "Industry                                                              \n",
       "Education and Health Services          1.547016e+09    1.432776e+09   \n",
       "Construction                           9.217212e+08    8.175273e+08   \n",
       "Leisure and Hospitality                5.520103e+08    5.407083e+08   \n",
       "Manufacturing                          1.243734e+09    1.161630e+09   \n",
       "Financial Activities                   1.117233e+09    9.999778e+08   \n",
       "Trade,Transportation, and Utilities    2.346717e+09    2.142298e+09   \n",
       "Other Services                         2.442335e+08    2.300305e+08   \n",
       "Information                            3.004403e+08    2.890702e+08   \n",
       "Unclassified                           9.256046e+06    6.352795e+06   \n",
       "Natural Resources and Mining           5.563240e+08    5.076980e+08   \n",
       "Professional and Business Services     2.326614e+09    2.016778e+09   \n",
       "\n",
       "Quarter                              Third Quarter  Difference  \\\n",
       "Industry                                                         \n",
       "Education and Health Services         1.414001e+09 -18775265.0   \n",
       "Construction                          8.054290e+08 -12098305.0   \n",
       "Leisure and Hospitality               5.296090e+08 -11099310.0   \n",
       "Manufacturing                         1.151652e+09  -9977551.0   \n",
       "Financial Activities                  9.919718e+08  -8005995.0   \n",
       "Trade,Transportation, and Utilities   2.137561e+09  -4736870.0   \n",
       "Other Services                        2.273139e+08  -2716590.0   \n",
       "Information                           2.890399e+08    -30302.0   \n",
       "Unclassified                          8.364953e+06   2012158.0   \n",
       "Natural Resources and Mining          5.123737e+08   4675787.0   \n",
       "Professional and Business Services    2.051696e+09  34918751.0   \n",
       "\n",
       "Quarter                              Diff Percentage  \n",
       "Industry                                              \n",
       "Education and Health Services              -0.013104  \n",
       "Construction                               -0.014799  \n",
       "Leisure and Hospitality                    -0.020527  \n",
       "Manufacturing                              -0.008589  \n",
       "Financial Activities                       -0.008006  \n",
       "Trade,Transportation, and Utilities        -0.002211  \n",
       "Other Services                             -0.011810  \n",
       "Information                                -0.000105  \n",
       "Unclassified                                0.316736  \n",
       "Natural Resources and Mining                0.009210  \n",
       "Professional and Business Services          0.017314  "
      ]
     },
     "execution_count": 141,
     "metadata": {},
     "output_type": "execute_result"
    }
   ],
   "source": [
    "df_sorted_by_diff"
   ]
  },
  {
   "cell_type": "markdown",
   "metadata": {},
   "source": [
    "Despite Leisure and Hospitality losing the most workers, the Education and Health Services industry actually suffered the most economic loss. Again professional and business services saw an increase, and the same is true of natural resources/mining."
   ]
  },
  {
   "cell_type": "markdown",
   "metadata": {},
   "source": [
    "Let's plot this to see if anything else jumps out."
   ]
  },
  {
   "cell_type": "code",
   "execution_count": 143,
   "metadata": {},
   "outputs": [],
   "source": [
    "#get list of industries\n",
    "list_of_ind = ['Education and Health Services', 'Construction',\n",
    "       'Leisure and Hospitality', 'Manufacturing', 'Financial Activities',\n",
    "       'Trade,Transportation, and Utilities', 'Other Services', 'Information',\n",
    "       'Unclassified', 'Natural Resources and Mining',\n",
    "       'Professional and Business Services']"
   ]
  },
  {
   "cell_type": "code",
   "execution_count": 323,
   "metadata": {},
   "outputs": [],
   "source": [
    "q2_list = list(df_sorted_by_diff['Second Quarter']/1000000)\n"
   ]
  },
  {
   "cell_type": "code",
   "execution_count": 325,
   "metadata": {},
   "outputs": [
    {
     "data": {
      "image/png": "[encoded data removed]",
      "text/plain": [
       "<Figure size 720x720 with 1 Axes>"
      ]
     },
     "metadata": {},
     "output_type": "display_data"
    }
   ],
   "source": [
    "#https://stackoverflow.com/questions/51610707/two-stacked-bar-charts-as-sub-plots-any-references\n",
    "N = 11\n",
    "\n",
    "ind = np.arange(N)  # the x locations for the groups\n",
    "width = 0.35       # the width of the bars\n",
    "\n",
    "fig = plt.figure(figsize=(10,10))\n",
    "ax = fig.add_subplot(111)\n",
    "rects1 = ax.barh(ind, q2_list, width, color='royalblue',)\n",
    "\n",
    "q3_list = list(df_sorted_by_diff['Third Quarter']/1000000)\n",
    "\n",
    "rects2 = ax.barh(ind+width, q3_list, width, color='seagreen',)\n",
    "\n",
    "# add some\n",
    "ax.set_xlabel('Weekly Wages (in $000s)', fontsize=12)\n",
    "ax.set_title('Wages by Industry', fontsize=14)\n",
    "ax.set_yticks(ind + width / 2)\n",
    "ax.set_yticklabels(list_of_ind, fontsize=12 )\n",
    "ax.legend( (rects1[0], rects2[0]), ('Q2', 'Q3') )\n",
    "\n",
    "plt.show()"
   ]
  },
  {
   "cell_type": "markdown",
   "metadata": {},
   "source": [
    "Overall, this plot shows the industries were not that different before and after the hurricane. This is not exactly what was expected. Perhaps if we look at counties that were impacted, the story is different."
   ]
  },
  {
   "cell_type": "code",
   "execution_count": 130,
   "metadata": {},
   "outputs": [
    {
     "data": {
      "text/plain": [
       "MultiIndex(levels=[['Employment'], ['Fourth Quarter', 'Second Quarter', 'Third Quarter']],\n",
       "           labels=[[0, 0, 0], [0, 1, 2]],\n",
       "           names=[None, 'Quarter'])"
      ]
     },
     "execution_count": 130,
     "metadata": {},
     "output_type": "execute_result"
    }
   ],
   "source": [
    "table2.columns"
   ]
  },
  {
   "cell_type": "code",
   "execution_count": 128,
   "metadata": {},
   "outputs": [
    {
     "data": {
      "text/plain": [
       "Index(['Construction', 'Education and Health Services', 'Financial Activities',\n",
       "       'Information', 'Leisure and Hospitality', 'Manufacturing',\n",
       "       'Natural Resources and Mining', 'Other Services',\n",
       "       'Professional and Business Services',\n",
       "       'Trade,Transportation, and Utilities', 'Unclassified'],\n",
       "      dtype='object', name='Industry')"
      ]
     },
     "execution_count": 128,
     "metadata": {},
     "output_type": "execute_result"
    }
   ],
   "source": [
    "table2.index"
   ]
  },
  {
   "cell_type": "markdown",
   "metadata": {},
   "source": [
    "Here we will look at only the counties that received aid from the hurricane and see if there are any trends."
   ]
  },
  {
   "cell_type": "code",
   "execution_count": 2,
   "metadata": {},
   "outputs": [
    {
     "ename": "NameError",
     "evalue": "name 'pd' is not defined",
     "output_type": "error",
     "traceback": [
      "\u001b[0;31m---------------------------------------------------------------------------\u001b[0m",
      "\u001b[0;31mNameError\u001b[0m                                 Traceback (most recent call last)",
      "\u001b[0;32m<ipython-input-2-04b40900c696>\u001b[0m in \u001b[0;36m<module>\u001b[0;34m()\u001b[0m\n\u001b[1;32m      1\u001b[0m \u001b[0;31m#create piv table\u001b[0m\u001b[0;34m\u001b[0m\u001b[0;34m\u001b[0m\u001b[0m\n\u001b[0;32m----> 2\u001b[0;31m \u001b[0mimpacted_table\u001b[0m \u001b[0;34m=\u001b[0m \u001b[0mpd\u001b[0m\u001b[0;34m.\u001b[0m\u001b[0mpivot_table\u001b[0m\u001b[0;34m(\u001b[0m\u001b[0mdf\u001b[0m\u001b[0;34m,\u001b[0m \u001b[0mvalues\u001b[0m\u001b[0;34m=\u001b[0m\u001b[0;34m'Weekly Economic Value'\u001b[0m\u001b[0;34m,\u001b[0m \u001b[0mindex\u001b[0m\u001b[0;34m=\u001b[0m\u001b[0;34m[\u001b[0m\u001b[0;34m'Was it impacted?'\u001b[0m\u001b[0;34m]\u001b[0m\u001b[0;34m,\u001b[0m \u001b[0mcolumns\u001b[0m\u001b[0;34m=\u001b[0m\u001b[0;34m[\u001b[0m\u001b[0;34m'Quarter'\u001b[0m\u001b[0;34m]\u001b[0m\u001b[0;34m,\u001b[0m \u001b[0maggfunc\u001b[0m\u001b[0;34m=\u001b[0m\u001b[0mnp\u001b[0m\u001b[0;34m.\u001b[0m\u001b[0msum\u001b[0m\u001b[0;34m)\u001b[0m\u001b[0;34m\u001b[0m\u001b[0m\n\u001b[0m\u001b[1;32m      3\u001b[0m \u001b[0;34m\u001b[0m\u001b[0m\n",
      "\u001b[0;31mNameError\u001b[0m: name 'pd' is not defined"
     ]
    }
   ],
   "source": [
    "#create piv table\n",
    "impacted_table = pd.pivot_table(df, values='Weekly Economic Value', index=['Was it impacted?'], columns=['Quarter'], aggfunc=np.sum)\n",
    "\n",
    "\n"
   ]
  },
  {
   "cell_type": "code",
   "execution_count": 194,
   "metadata": {},
   "outputs": [],
   "source": [
    "impacted_df = pd.DataFrame(impacted_table)"
   ]
  },
  {
   "cell_type": "code",
   "execution_count": 195,
   "metadata": {},
   "outputs": [],
   "source": [
    "#calculate differences\n",
    "impacted_df['Third Quarter'] = impacted_df['Third Quarter'] / 1000000\n",
    "impacted_df['Second Quarter'] = impacted_df['Second Quarter'] / 1000000\n",
    "impacted_df['Fourth Quarter'] = impacted_df['Fourth Quarter'] / 1000000"
   ]
  },
  {
   "cell_type": "code",
   "execution_count": 196,
   "metadata": {},
   "outputs": [],
   "source": [
    "impacted_df['Difference'] = impacted_df['Third Quarter'] - impacted_df['Second Quarter']"
   ]
  },
  {
   "cell_type": "code",
   "execution_count": 197,
   "metadata": {},
   "outputs": [],
   "source": [
    "impacted_df['Difference_Percentage'] = impacted_df['Difference'] / impacted_df['Second Quarter']"
   ]
  },
  {
   "cell_type": "code",
   "execution_count": 198,
   "metadata": {},
   "outputs": [
    {
     "data": {
      "text/html": [
       "<div>\n",
       "<style scoped>\n",
       "    .dataframe tbody tr th:only-of-type {\n",
       "        vertical-align: middle;\n",
       "    }\n",
       "\n",
       "    .dataframe tbody tr th {\n",
       "        vertical-align: top;\n",
       "    }\n",
       "\n",
       "    .dataframe thead th {\n",
       "        text-align: right;\n",
       "    }\n",
       "</style>\n",
       "<table border=\"1\" class=\"dataframe\">\n",
       "  <thead>\n",
       "    <tr style=\"text-align: right;\">\n",
       "      <th>Quarter</th>\n",
       "      <th>Fourth Quarter</th>\n",
       "      <th>Second Quarter</th>\n",
       "      <th>Third Quarter</th>\n",
       "      <th>Difference</th>\n",
       "      <th>Difference_Percentage</th>\n",
       "    </tr>\n",
       "    <tr>\n",
       "      <th>Was it impacted?</th>\n",
       "      <th></th>\n",
       "      <th></th>\n",
       "      <th></th>\n",
       "      <th></th>\n",
       "      <th></th>\n",
       "    </tr>\n",
       "  </thead>\n",
       "  <tbody>\n",
       "    <tr>\n",
       "      <th>0</th>\n",
       "      <td>7383.240503</td>\n",
       "      <td>6719.628834</td>\n",
       "      <td>6708.581931</td>\n",
       "      <td>-11.046903</td>\n",
       "      <td>-0.001644</td>\n",
       "    </tr>\n",
       "    <tr>\n",
       "      <th>1</th>\n",
       "      <td>3782.059878</td>\n",
       "      <td>3425.217423</td>\n",
       "      <td>3410.430834</td>\n",
       "      <td>-14.786589</td>\n",
       "      <td>-0.004317</td>\n",
       "    </tr>\n",
       "  </tbody>\n",
       "</table>\n",
       "</div>"
      ],
      "text/plain": [
       "Quarter           Fourth Quarter  Second Quarter  Third Quarter  Difference  \\\n",
       "Was it impacted?                                                              \n",
       "0                    7383.240503     6719.628834    6708.581931  -11.046903   \n",
       "1                    3782.059878     3425.217423    3410.430834  -14.786589   \n",
       "\n",
       "Quarter           Difference_Percentage  \n",
       "Was it impacted?                         \n",
       "0                             -0.001644  \n",
       "1                             -0.004317  "
      ]
     },
     "execution_count": 198,
     "metadata": {},
     "output_type": "execute_result"
    }
   ],
   "source": [
    "impacted_df"
   ]
  },
  {
   "cell_type": "markdown",
   "metadata": {},
   "source": [
    "Let's plot this again to see if anything jumps out."
   ]
  },
  {
   "cell_type": "code",
   "execution_count": 277,
   "metadata": {},
   "outputs": [],
   "source": [
    "non_impacted_data = [6719.628834, 6708.581931, 7383.240503]"
   ]
  },
  {
   "cell_type": "code",
   "execution_count": 278,
   "metadata": {},
   "outputs": [],
   "source": [
    "impacted_data = [3425.217423, 3410.430834, 3782.059878]"
   ]
  },
  {
   "cell_type": "code",
   "execution_count": 279,
   "metadata": {},
   "outputs": [],
   "source": [
    "#convert weekly wages to quarterly\n",
    "fourth_q = [7383.240503*13, 3782.059878*13]\n",
    "\n",
    "third_q = [6708.581931*13, 3410.430834*13]\n",
    "\n",
    "second_q = [6719.628834*13, 3425.217423*13]"
   ]
  },
  {
   "cell_type": "code",
   "execution_count": 317,
   "metadata": {},
   "outputs": [],
   "source": [
    "#calculate percentage change\n",
    "non_impact_change = (third_q[0] - second_q[0]) / second_q[0]\n",
    "impact_change = (third_q[1] - second_q[1]) / second_q[1]\n",
    "\n",
    "#print %\n",
    "print(impact_change)\n",
    "print(non_impact_change)\n",
    "\n",
    "non_impact_change_fourth = (fourth_q[0] - third_q[0]) / third_q[0]\n",
    "impact_change_fourth = (fourth_q[1] - third_q[1]) / third_q[1]\n",
    "\n",
    "print(impact_change_fourth)\n",
    "print(non_impact_change_fourth)"
   ]
  },
  {
   "cell_type": "code",
   "execution_count": 373,
   "metadata": {},
   "outputs": [
    {
     "data": {
      "image/png": "[encoded data removed]",
      "text/plain": [
       "<Figure size 864x864 with 1 Axes>"
      ]
     },
     "metadata": {},
     "output_type": "display_data"
    }
   ],
   "source": [
    "#https://stackoverflow.com/questions/51610707/two-stacked-bar-charts-as-sub-plots-any-references\n",
    "N = 2\n",
    "\n",
    "ind = np.arange(N)  # the x locations for the groups\n",
    "width = 0.2     # the width of the bars\n",
    "\n",
    "fig = plt.figure(figsize=(12,12))\n",
    "ax = fig.add_subplot(111)\n",
    "rects1 = ax.barh(ind, fourth_q, width, color='royalblue',)\n",
    "\n",
    "\n",
    "\n",
    "\n",
    "rects2 = ax.barh(ind+width, third_q, width, color='seagreen',)\n",
    "rects3 = ax.barh(ind+width+width, second_q, width, color='coral',)\n",
    "\n",
    "\n",
    "# add some\n",
    "#plt.ylim((2000, 75000))  \n",
    "ax.set_xlabel('Quarterly Wages (in $000s)', fontsize=18)\n",
    "ax.set_title('Comparing Impacted vs. Non-impacted Counties', fontsize=18)\n",
    "ax.set_yticks(ind + width / 2)\n",
    "plt.xticks(fontsize=14, )\n",
    "ax.set_yticklabels(['No impact','Impacted'], fontsize=18,  )\n",
    "ax.legend( (rects1[0], rects2[0],rects3[0]), ('Q4', 'Q3','Q2'), fontsize=20 )\n",
    "\n",
    "plt.show()"
   ]
  },
  {
   "cell_type": "markdown",
   "metadata": {},
   "source": [
    "This again does not meet out expectations. Although the counties that were impacted did see a larger decrease from Q2-Q3, both groups of counties jumped right back up in Q4. Thus, it is possible the larger decrease from Q2-Q3 was driven by random variation and may not be related to the hurricane at all."
   ]
  },
  {
   "cell_type": "markdown",
   "metadata": {},
   "source": [
    "# Conclusions and Recommendations <a name=\"concl\"></a>"
   ]
  },
  {
   "cell_type": "markdown",
   "metadata": {},
   "source": [
    "Despite our shortcomings in generating a working model, we did uncover some interesting short term trends in the aftermath of Hurricane Harvey. Interestingly, certain industries experienced wage increases while most others suffered. For example, the Mining and Professional Services industries both saw gains of approximately 1.7%, while other industries such as Education and Health Services saw a drop in weekly wages of 1.3%. Harris County was one of the most impacted, as they bore the brunt of the losses in both Construction as well as Leisure and Hospitality ($10 million and $2 million, respectively).\n",
    "\n",
    "As we transitioned from predicting the economic losses to analyzing Harvey, we did outside research on historical hurricanes’ strength in Category ranking and their associated normalized economic impact. What we found was that there is an extremely large amount of variance in the economic losses sustained by hurricane-hit locations. As discussed prior, we believe that this is directly impacted by not only the strength of the hurricane, but also the amount of rain, geographic location, industries affected and finally population size and density. \n",
    "\n",
    "In attempting to build a predictive model, we recommend obtaining more granular data from other hurricanes, in regards to timeframe and storm details such as quantified wind and rain measurements. Ideally it would consist of all the available data for all known hurricanes, not limited to the US. Additionally, we theorized that clustering the locations prone to hurricanes would yield more actionable information. In total, this equates to nearly an entire overhaul of the current hurricane measurement system, which we believe to be severely lacking in its singular measurement of peak sustained wind speed.\n"
   ]
  }
 ],
 "metadata": {
  "kernelspec": {
   "display_name": "Python [conda env:dsi]",
   "language": "python",
   "name": "conda-env-dsi-py"
  },
  "language_info": {
   "codemirror_mode": {
    "name": "ipython",
    "version": 3
   },
   "file_extension": ".py",
   "mimetype": "text/x-python",
   "name": "python",
   "nbconvert_exporter": "python",
   "pygments_lexer": "ipython3",
   "version": "3.6.5"
  }
 },
 "nbformat": 4,
 "nbformat_minor": 2
}
