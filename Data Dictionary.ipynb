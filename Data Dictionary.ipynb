{
 "cells": [
  {
   "cell_type": "markdown",
   "metadata": {},
   "source": [
    "| Column Name                              | Description                                                                                                              |\n",
    "|------------------------------------------|--------------------------------------------------------------------------------------------------------------------------|\n",
    "| Area Name                                | County Name                                                                                                       |\n",
    "| Quarter                                  | The Quarter in 2017                                                                                            |\n",
    "| No. Of Etablishments                      | An establishment is an economic unit, such as a farm, mine, factory, or store, that produces goods or provides services. |\n",
    "| Employment                               | Number of persons employed for the third month of the quarter selected.                                                  |\n",
    "| One-Year Employment Gain/Loss (Percent)  | Percent change calculated from data for one-year prior.                                                                  |\n",
    "| Average Weekly Wages                     | These are the total wages for all employees as submitted by employer reports. The unit is dollars.                       |\n",
    "| On-Year Weekly Wages Gain/Loss (Percent) | Percent change calculated from data for one-year prior.                                                                  |\n",
    "| Industry                                 | Industry of the respective data.                                                                                               |\n",
    "| FIPS                                     | State code for first two digits, County code for last 3 digits. "
   ]
  },
  {
   "cell_type": "code",
   "execution_count": null,
   "metadata": {},
   "outputs": [],
   "source": []
  }
 ],
 "metadata": {
  "kernelspec": {
   "display_name": "Python 3",
   "language": "python",
   "name": "python3"
  },
  "language_info": {
   "codemirror_mode": {
    "name": "ipython",
    "version": 3
   },
   "file_extension": ".py",
   "mimetype": "text/x-python",
   "name": "python",
   "nbconvert_exporter": "python",
   "pygments_lexer": "ipython3",
   "version": "3.7.2"
  }
 },
 "nbformat": 4,
 "nbformat_minor": 2
}
